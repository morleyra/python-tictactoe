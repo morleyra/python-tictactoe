{
 "cells": [
  {
   "cell_type": "code",
   "execution_count": 11,
   "id": "a01927e9",
   "metadata": {},
   "outputs": [],
   "source": [
    "def display_board(board):\n",
    "    \n",
    "    #cosmetic rows of board\n",
    "    filler = '   |   |   '\n",
    "    \n",
    "    #separator between rows\n",
    "    separator = '-----------'\n",
    "    \n",
    "    #combine rows\n",
    "    board = print(filler, \n",
    "                  f\" {board[7]} | {board[8]} | {board[9]} \", \n",
    "                  filler,\n",
    "                  separator,\n",
    "                  filler,\n",
    "                  f\" {board[4]} | {board[5]} | {board[6]} \",\n",
    "                  filler,\n",
    "                  separator,\n",
    "                  filler,\n",
    "                  f\" {board[1]} | {board[2]} | {board[3]} \",\n",
    "                  filler, sep='\\n')"
   ]
  },
  {
   "cell_type": "code",
   "execution_count": 12,
   "id": "38aaab93",
   "metadata": {},
   "outputs": [],
   "source": [
    "from IPython.display import clear_output\n",
    "clear_output()"
   ]
  },
  {
   "cell_type": "code",
   "execution_count": 195,
   "id": "1f049fc3",
   "metadata": {},
   "outputs": [],
   "source": [
    "def position_choice():\n",
    "    \n",
    "    # This original choice value can be anything that isn't an integer\n",
    "    choice = 'wrong'\n",
    "        \n",
    "    # While the choice is not 1 through 9, keep asking for input.\n",
    "    while choice not in available_pos:\n",
    "        \n",
    "        #Ask the user for their position\n",
    "        choice = input(\"Choose your next position: (1-9) \")   \n",
    "        print(type(choice))\n",
    "        #Calls the user out for entering an invalid response\n",
    "        if choice not in available_pos:\n",
    "                 \n",
    "            print(\"Sorry, but you did not choose a valid position (1-9)\")\n",
    "            \n",
    "        #if ('X' or 'O') in board[choice]: \n",
    "            #print(\"Sorry that position is taken\")\n",
    "    available_pos.remove(choice)\n",
    "    return int(choice)\n",
    "    "
   ]
  },
  {
   "cell_type": "code",
   "execution_count": 167,
   "id": "1f648bdd",
   "metadata": {},
   "outputs": [],
   "source": [
    "def char_choice():\n",
    "    \n",
    "    # This original choice value can be anything that isn't an integer\n",
    "    choice = 'wrong'\n",
    "    \n",
    "    # While the choice is not 1 through 9, keep asking for input.\n",
    "    while choice not in ['X','O']:\n",
    "        \n",
    "        #Ask the user for their position\n",
    "        choice = input(\"Would you like to be X or O? \")\n",
    "        \n",
    "        #Calls the user out for entering an invalid response\n",
    "        if choice not in ['X','O']:\n",
    "            # THIS CLEARS THE CURRENT OUTPUT BELOW THE CELL\n",
    "            \n",
    "            print(\"Sorry, but you did not choose a valid character\")\n",
    "            \n",
    "\n",
    "    \n",
    "    #return player one's character\n",
    "    if choice == 'X':\n",
    "        print (\"Player 1 will go first\")\n",
    "        return True\n",
    "    else:\n",
    "        print (\"Player 2 will go first\")\n",
    "        return False"
   ]
  },
  {
   "cell_type": "code",
   "execution_count": 176,
   "id": "9aace600",
   "metadata": {},
   "outputs": [
    {
     "ename": "SyntaxError",
     "evalue": "invalid syntax (<ipython-input-176-6bdb096e6606>, line 14)",
     "output_type": "error",
     "traceback": [
      "\u001b[1;36m  File \u001b[1;32m\"<ipython-input-176-6bdb096e6606>\"\u001b[1;36m, line \u001b[1;32m14\u001b[0m\n\u001b[1;33m    elif:\u001b[0m\n\u001b[1;37m        ^\u001b[0m\n\u001b[1;31mSyntaxError\u001b[0m\u001b[1;31m:\u001b[0m invalid syntax\n"
     ]
    }
   ],
   "source": [
    "def readytoplay_choice():\n",
    "    \n",
    "    # This original choice value can be anything that isn't an integer\n",
    "    choice = 'wrong'\n",
    "    \n",
    "    # While the choice is not 1 through 9, keep asking for input.\n",
    "    while choice not in ['Yes']:\n",
    "        \n",
    "        #If continuing after a finished game\n",
    "        if winning(board) == True:\n",
    "            choice = input(\"Would you like to play again? Enter Yes or No \")\n",
    "                \n",
    "        #Ask the user for their position\n",
    "        elif:\n",
    "            choice = input(\"Are you ready to play? Enter Yes or No \")\n",
    "        \n",
    "        #Calls the user out for entering an invalid response\n",
    "        if choice not in ['Yes','No']:\n",
    "            # THIS CLEARS THE CURRENT OUTPUT BELOW THE CELL\n",
    "            clear_output()\n",
    "            \n",
    "            print(\"Sorry, but please enter Yes or No\")\n",
    "            \n",
    "    # THIS CLEARS THE CURRENT OUTPUT BELOW THE CELL\n",
    "    clear_output()\n",
    "    \n",
    "    # Players are ready to play\n",
    "    if choice == 'Yes':\n",
    "        return True\n",
    "    #else:\n",
    "    #    return False"
   ]
  },
  {
   "cell_type": "code",
   "execution_count": null,
   "id": "daf55f52",
   "metadata": {
    "scrolled": false
   },
   "outputs": [
    {
     "name": "stdout",
     "output_type": "stream",
     "text": [
      "   |   |   \n",
      " X |   |   \n",
      "   |   |   \n",
      "-----------\n",
      "   |   |   \n",
      " X | O |   \n",
      "   |   |   \n",
      "-----------\n",
      "   |   |   \n",
      " X | O | O \n",
      "   |   |   \n",
      "Choose your next position: (1-9) 1\n",
      "<class 'str'>\n",
      "Sorry, but you did not choose a valid position (1-9)\n",
      "Choose your next position: (1-9) 1\n",
      "<class 'str'>\n",
      "Sorry, but you did not choose a valid position (1-9)\n"
     ]
    }
   ],
   "source": [
    "from IPython.display import clear_output\n",
    "clear_output()\n",
    "\n",
    "#Blank starting board\n",
    "board = ['#',' ',' ',' ',' ',' ',' ',' ',' ',' ']\n",
    "\n",
    "# Starting Available Game Positions\n",
    "available_pos = ['1','2','3','4','5','6','7','8','9']\n",
    "\n",
    "#Decides whether player 1 or 2 will start.  X always starts first\n",
    "char_choice()\n",
    "Xsturn = True \n",
    "    \n",
    "#Are the players ready to play?\n",
    "game_on = readytoplay_choice()\n",
    "\n",
    "while game_on:\n",
    "    \n",
    "\n",
    "    \n",
    "    # Clear any historical output and show the game list\n",
    "    clear_output()\n",
    "    display_board(board)\n",
    "    \n",
    "    # Have player choose position\n",
    "    position = position_choice()\n",
    "    \n",
    "    # Place game marker\n",
    "    board = X_place(board,position,Xsturn)\n",
    "    Xsturn = not Xsturn\n",
    "\n",
    "        \n",
    "    # Win condition\n",
    "    #clear_output()\n",
    "    if winning(board) == True:\n",
    "        board = ['#',' ',' ',' ',' ',' ',' ',' ',' ',' ']\n",
    "        readytoplay_choice()\n",
    "        print(board)\n",
    "        char_choice()\n",
    "        Xsturn = True \n",
    "    \n",
    "    \n",
    "    # Ask if you want to keep playing\n",
    "    #game_on = gameon_choice()\n",
    "    "
   ]
  },
  {
   "cell_type": "code",
   "execution_count": 42,
   "id": "f534eccb",
   "metadata": {},
   "outputs": [],
   "source": [
    "def X_place(board,position,Xsturn):\n",
    "    \n",
    "    if Xsturn == True:\n",
    "        board[position] = 'X'\n",
    "    else:\n",
    "        board[position] = 'O'\n",
    "\n",
    "    return board"
   ]
  },
  {
   "cell_type": "code",
   "execution_count": 46,
   "id": "0c94afb8",
   "metadata": {},
   "outputs": [
    {
     "name": "stdout",
     "output_type": "stream",
     "text": [
      "['#', 'X', 'O', ' ', ' ', ' ', ' ', ' ', ' ', ' ']\n"
     ]
    }
   ],
   "source": [
    "print(board)"
   ]
  },
  {
   "cell_type": "code",
   "execution_count": null,
   "id": "8a38ee31",
   "metadata": {},
   "outputs": [],
   "source": [
    "#win conditions\n",
    "\n",
    "\n",
    "#if 3 consecutive are the same\n",
    "#1-4-7\n",
    "#2-5-8\n",
    "#3-6-9\n",
    "#1-5-9\n",
    "#3-5-7\n",
    "\n",
    "#check lists lecture.  Possibly split into 3 lists.  Make matrix. Use list comprehension"
   ]
  },
  {
   "cell_type": "code",
   "execution_count": 171,
   "id": "d93716c5",
   "metadata": {},
   "outputs": [],
   "source": [
    "def winning(board):\n",
    "    for i in range(0, len(board)-2):\n",
    "        if board[i]=='O' and board[i+1]=='O' and board[i+2]=='O':\n",
    "            clear_output()\n",
    "            display_board(board)\n",
    "            print(\"O wins!\")\n",
    "            return True\n",
    "        elif board[i]=='X' and board[i+1]=='X' and board[i+2]=='X':\n",
    "            clear_output()\n",
    "            display_board(board)\n",
    "            print(\"X wins!\")\n",
    "            return True\n",
    "    return False"
   ]
  },
  {
   "cell_type": "code",
   "execution_count": 193,
   "id": "52691ebc",
   "metadata": {},
   "outputs": [
    {
     "name": "stdout",
     "output_type": "stream",
     "text": [
      "['#', ' ', ' ', ' ', ' ', ' ', ' ', 'X', 'X', 'O']\n"
     ]
    }
   ],
   "source": [
    "print(board)"
   ]
  },
  {
   "cell_type": "code",
   "execution_count": 139,
   "id": "52493e9f",
   "metadata": {},
   "outputs": [
    {
     "data": {
      "text/plain": [
       "False"
      ]
     },
     "execution_count": 139,
     "metadata": {},
     "output_type": "execute_result"
    }
   ],
   "source": [
    "winning(board)"
   ]
  },
  {
   "cell_type": "code",
   "execution_count": 151,
   "id": "fc947c15",
   "metadata": {},
   "outputs": [],
   "source": [
    "board = ['#','X','','','','','','','O','O']"
   ]
  },
  {
   "cell_type": "code",
   "execution_count": 152,
   "id": "9a3d475f",
   "metadata": {},
   "outputs": [
    {
     "data": {
      "text/plain": [
       "False"
      ]
     },
     "execution_count": 152,
     "metadata": {},
     "output_type": "execute_result"
    }
   ],
   "source": [
    "winning(board)"
   ]
  },
  {
   "cell_type": "code",
   "execution_count": 132,
   "id": "c21b86ac",
   "metadata": {},
   "outputs": [],
   "source": [
    "board = ['#',' ',' ',' ',' ',' ',' ',' ','O','O']"
   ]
  },
  {
   "cell_type": "code",
   "execution_count": null,
   "id": "0ac6dda4",
   "metadata": {},
   "outputs": [],
   "source": []
  },
  {
   "cell_type": "code",
   "execution_count": null,
   "id": "c1534837",
   "metadata": {},
   "outputs": [],
   "source": []
  }
 ],
 "metadata": {
  "kernelspec": {
   "display_name": "Python 3",
   "language": "python",
   "name": "python3"
  },
  "language_info": {
   "codemirror_mode": {
    "name": "ipython",
    "version": 3
   },
   "file_extension": ".py",
   "mimetype": "text/x-python",
   "name": "python",
   "nbconvert_exporter": "python",
   "pygments_lexer": "ipython3",
   "version": "3.8.8"
  }
 },
 "nbformat": 4,
 "nbformat_minor": 5
}
